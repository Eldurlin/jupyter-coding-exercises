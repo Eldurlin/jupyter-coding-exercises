{
 "cells": [
  {
   "cell_type": "markdown",
   "id": "ff4a092a",
   "metadata": {},
   "source": [
    "### 1. Counter\n",
    "#### Returns the number of characters for every input word."
   ]
  },
  {
   "cell_type": "code",
   "execution_count": null,
   "id": "28ed367d",
   "metadata": {
    "scrolled": true
   },
   "outputs": [],
   "source": [
    "word = \"python\"\n",
    "\n",
    "def counter(word):\n",
    "    return len(word)\n",
    "\n",
    "counter(word)"
   ]
  },
  {
   "cell_type": "markdown",
   "id": "25eccb2c",
   "metadata": {},
   "source": [
    "### 2. Second element of every tuple\n",
    "#### Loop through all the tuples of elements and print put the second element of each tuple in the loop."
   ]
  },
  {
   "cell_type": "code",
   "execution_count": null,
   "id": "04fafe48",
   "metadata": {
    "scrolled": true
   },
   "outputs": [],
   "source": [
    "elements = (\n",
    "    (1, 5),\n",
    "    (2, 6),\n",
    "    (3, 7),\n",
    "    (4, 8)\n",
    ")\n",
    "\n",
    "for e_1, e_2 in elements:\n",
    "    print(e_2)"
   ]
  },
  {
   "cell_type": "markdown",
   "id": "55060e1a",
   "metadata": {},
   "source": [
    "### 3. Print sum\n",
    "#### Calculates and prints out the sum of variables"
   ]
  },
  {
   "cell_type": "code",
   "execution_count": null,
   "id": "a1b31f3b",
   "metadata": {
    "scrolled": true
   },
   "outputs": [],
   "source": [
    "a, b, c = 1, 2, 3\n",
    "\n",
    "result = a + b +c\n",
    "\n",
    "print(result)"
   ]
  },
  {
   "cell_type": "markdown",
   "id": "1c2b5ea9",
   "metadata": {},
   "source": [
    "### 4. Tuple of dictionary\n",
    "#### Convert the tuple into a dictionary and print it out."
   ]
  },
  {
   "cell_type": "code",
   "execution_count": null,
   "id": "96bf9950",
   "metadata": {
    "scrolled": true
   },
   "outputs": [],
   "source": [
    "customer = (\n",
    "    ('id', '987654321'),\n",
    "    ('name', 'john'),\n",
    "    ('surname', 'trond'),\n",
    "    ('rented_books', 3)\n",
    ")\n",
    "\n",
    "print(dict(customer))"
   ]
  },
  {
   "cell_type": "markdown",
   "id": "21757a68",
   "metadata": {},
   "source": [
    "### 5. Certain passwords only\n",
    "#### Loop over the items of the passwords list and in each interation print out the item if the item contains the strings 'ba' or 'ab' inside."
   ]
  },
  {
   "cell_type": "code",
   "execution_count": null,
   "id": "7af14751",
   "metadata": {
    "scrolled": true
   },
   "outputs": [],
   "source": [
    "passwords = ['ccavfb', 'baaded', 'bbaa', 'aaeed', 'vbb', 'aadeba', 'aba', \\\n",
    "             'dee', 'dade', 'abc', 'aae', 'dded', 'abb', 'aaf', 'ffaec']\n",
    "\n",
    "for word in passwords:\n",
    "    if 'ba' in word or 'ab' in word:\n",
    "        print(word)\n",
    "    else:\n",
    "        continue"
   ]
  },
  {
   "cell_type": "markdown",
   "id": "ffbc20f9",
   "metadata": {},
   "source": [
    "### 6. Anybody in there?\n",
    "#### Takes a list and another object as parameters. Checks if that object is in the list. Adds the object to the list if the object is not in the list. Returns a list."
   ]
  },
  {
   "cell_type": "code",
   "execution_count": null,
   "id": "562e7992",
   "metadata": {
    "scrolled": true
   },
   "outputs": [],
   "source": [
    "def foo(lst, obj):\n",
    "    if obj not in lst:\n",
    "        lst.append(obj)\n",
    "    return lst\n",
    "\n",
    "my_lst = []\n",
    "foo(my_lst, \"Sharum\")"
   ]
  },
  {
   "cell_type": "markdown",
   "id": "e0df8b11",
   "metadata": {},
   "source": [
    "### 7. Integers of non empty lists\n",
    "#### Loop through the elements list and print out the first item of each list if the item is an integer."
   ]
  },
  {
   "cell_type": "code",
   "execution_count": null,
   "id": "9f89b62a",
   "metadata": {
    "scrolled": true
   },
   "outputs": [],
   "source": [
    "elements = [\n",
    "    [1, 4, 6, 7],\n",
    "    [4, 5, 6],\n",
    "    [6, 7, 8],\n",
    "    [],\n",
    "    [\"nodata\", \"nodata\"],\n",
    "    [1, 3]\n",
    "]\n",
    "\n",
    "for item in elements:\n",
    "    if item and isinstance(item[0], int):\n",
    "        print(item[0])"
   ]
  },
  {
   "cell_type": "markdown",
   "id": "f3220c2d",
   "metadata": {},
   "source": [
    "### 8. Simple sum\n",
    "#### Takes two numbers as parameters and returns their sum."
   ]
  },
  {
   "cell_type": "code",
   "execution_count": null,
   "id": "42d31a70",
   "metadata": {
    "scrolled": true
   },
   "outputs": [],
   "source": [
    "def foo(x, y):\n",
    "    return x + y\n",
    "\n",
    "foo(3, 4)"
   ]
  },
  {
   "cell_type": "markdown",
   "id": "15aba735",
   "metadata": {},
   "source": [
    "### 9. Sequence index\n",
    "#### Takes a list as parameter and returns the first item of the list."
   ]
  },
  {
   "cell_type": "code",
   "execution_count": null,
   "id": "b98ed1d6",
   "metadata": {
    "scrolled": true
   },
   "outputs": [],
   "source": [
    "def foo(lst):\n",
    "    return lst[0]\n",
    "\n",
    "sharum_list = [\"chi\", \"kai\", \"kha\", \"dal\"]\n",
    "foo(sharum_list)"
   ]
  },
  {
   "cell_type": "markdown",
   "id": "0fee0764",
   "metadata": {},
   "source": [
    "### 10. Sequence last item\n",
    "#### Takes a list as parameter and returns the last item of the list."
   ]
  },
  {
   "cell_type": "code",
   "execution_count": null,
   "id": "e02d7562",
   "metadata": {
    "scrolled": true
   },
   "outputs": [],
   "source": [
    "def foo(lst):\n",
    "    return lst[-1]\n",
    "\n",
    "sharum_list = [\"chi\", \"kai\", \"kha\", \"dal\"]\n",
    "foo(sharum_list)"
   ]
  },
  {
   "cell_type": "markdown",
   "id": "a1da9569",
   "metadata": {},
   "source": [
    "### 11. Sequence first and last\n",
    "#### Takes a list as parameter and returns the first and the last item of the list."
   ]
  },
  {
   "cell_type": "code",
   "execution_count": null,
   "id": "37fbb978",
   "metadata": {
    "scrolled": true
   },
   "outputs": [],
   "source": [
    "def foo(lst):\n",
    "    return lst[0], lst[-1]\n",
    "\n",
    "sharum_list = [\"chi\", \"kai\", \"kha\", \"dal\"]\n",
    "foo(sharum_list)"
   ]
  },
  {
   "cell_type": "markdown",
   "id": "41a987b3",
   "metadata": {},
   "source": [
    "### 12. List maximum\n",
    "#### Returns the maximum number of the list."
   ]
  },
  {
   "cell_type": "code",
   "execution_count": null,
   "id": "17dde623",
   "metadata": {
    "scrolled": true
   },
   "outputs": [],
   "source": [
    "def foo(lst):\n",
    "    return max(lst)\n",
    "\n",
    "numbers_list = [1, 4, 7, 3, 5]\n",
    "foo(numbers_list)"
   ]
  },
  {
   "cell_type": "markdown",
   "id": "98636822",
   "metadata": {},
   "source": [
    "### 13. List concatenation\n",
    "#### Takes three lists as parameters and returns one concatenated list."
   ]
  },
  {
   "cell_type": "code",
   "execution_count": null,
   "id": "7d11ffa5",
   "metadata": {
    "scrolled": true
   },
   "outputs": [],
   "source": [
    "def foo(lst1, lst2, lst3):\n",
    "    return lst1 + lst2 + lst3\n",
    "\n",
    "numbers_list_1 = [1, 4, 7]\n",
    "numbers_list_2 = [3, 5]\n",
    "numbers_list_3 = [9, 2]\n",
    "foo(numbers_list_1, numbers_list_2, numbers_list_3)"
   ]
  },
  {
   "cell_type": "markdown",
   "id": "9938af1e",
   "metadata": {},
   "source": [
    "### 14. Multiple arguments call\n",
    "#### Takes multiple arguments as parameters, add them to the list and double the values."
   ]
  },
  {
   "cell_type": "code",
   "execution_count": null,
   "id": "34f12bc9",
   "metadata": {
    "scrolled": true
   },
   "outputs": [],
   "source": [
    "def foo(*args):\n",
    "    double_list = [x*2 for x in args]\n",
    "    return double_list\n",
    "\n",
    "foo(1, 4, 7, 3, 5)"
   ]
  },
  {
   "cell_type": "markdown",
   "id": "d84c3efe",
   "metadata": {},
   "source": [
    "### 15. Multiple arguments function definition\n",
    "#### Takes indefinite number of arguments and returns a list containg all the argument values."
   ]
  },
  {
   "cell_type": "code",
   "execution_count": null,
   "id": "854eb742",
   "metadata": {
    "scrolled": true
   },
   "outputs": [],
   "source": [
    "def foo(*args):\n",
    "    return list(args)\n",
    "\n",
    "foo(3, \"chi\", 6, \"dal\")"
   ]
  },
  {
   "cell_type": "markdown",
   "id": "2820a042",
   "metadata": {},
   "source": [
    "### 16. Multiple keyword arguments\n",
    "#### Takes an indefinite number of keyword arguments and returns a dictionary containg all the argument names and the argument values."
   ]
  },
  {
   "cell_type": "code",
   "execution_count": null,
   "id": "b7acbb4c",
   "metadata": {
    "scrolled": true
   },
   "outputs": [],
   "source": [
    "def foo(**kwargs):\n",
    "    return dict(kwargs)\n",
    "\n",
    "foo(a = 1, b = 7, c = 66)"
   ]
  },
  {
   "cell_type": "markdown",
   "id": "b7b1da40",
   "metadata": {},
   "source": [
    "### 17. Concatenate lists indefinite\n",
    "#### Takes an indefinite number of lists and returns the concatenated list."
   ]
  },
  {
   "cell_type": "code",
   "execution_count": null,
   "id": "ae91f3f5",
   "metadata": {
    "scrolled": true
   },
   "outputs": [],
   "source": [
    "def foo(*args):\n",
    "    lst = []\n",
    "    for each_list in args:\n",
    "        lst = lst + each_list\n",
    "    return lst\n",
    "\n",
    "numbers_list_1 = [\"dal\", 4, 7]\n",
    "numbers_list_2 = [3, \"kha\"]\n",
    "numbers_list_3 = [9, \"chi\"]\n",
    "foo(numbers_list_1, numbers_list_2, numbers_list_3)"
   ]
  },
  {
   "cell_type": "markdown",
   "id": "d8681e3f",
   "metadata": {},
   "source": [
    "### 18. True if all\n",
    "#### Takes an indefinite number of lists as arguments. Returns true if all lists have at least one item. Returns false if one or more lists are empty."
   ]
  },
  {
   "cell_type": "code",
   "execution_count": null,
   "id": "88aa4fab",
   "metadata": {
    "scrolled": true
   },
   "outputs": [],
   "source": [
    "def foo(*args):\n",
    "    return all(args)\n",
    "\n",
    "numbers_list_1 = [1, 4, 7]\n",
    "numbers_list_2 = []\n",
    "numbers_list_3 = [9, 2]\n",
    "foo(numbers_list_1, numbers_list_2, numbers_list_3)"
   ]
  },
  {
   "cell_type": "markdown",
   "id": "c4414737",
   "metadata": {},
   "source": [
    "### 19. Decimal universe\n",
    "#### Print out all numbers from 0 to 10 with an increment of 0.1."
   ]
  },
  {
   "cell_type": "code",
   "execution_count": null,
   "id": "b16abb80",
   "metadata": {
    "scrolled": true
   },
   "outputs": [],
   "source": [
    "for i in (x / 10 for x in range(0, 101)):\n",
    "    print(i)"
   ]
  },
  {
   "cell_type": "markdown",
   "id": "6c40da52",
   "metadata": {},
   "source": [
    "### 20. Number info\n",
    "#### Takes a number as a parameter. Returns a dictionary that has infromation about the sign and the parity of the input number."
   ]
  },
  {
   "cell_type": "code",
   "execution_count": null,
   "id": "721ab443",
   "metadata": {
    "scrolled": true
   },
   "outputs": [],
   "source": [
    "def foo(number):\n",
    "    return dict(sign = \"positive\" if number > 0 \n",
    "                else (\"negative\" if number < 0 \n",
    "                else \"zero\"),\n",
    "                parity = \"odd\" if number % 2 == 1 \n",
    "                else (\"even\" if number % 2 == 0\n",
    "                else \"non integer\"))\n",
    "\n",
    "foo(6)"
   ]
  },
  {
   "cell_type": "markdown",
   "id": "fffdd558",
   "metadata": {},
   "source": [
    "### 21. Sequence last item if last item\n",
    "#### Takes a list as a parameter. Returns the last item of the list. Returns the string \"Empty list\" if the input list has no items."
   ]
  },
  {
   "cell_type": "code",
   "execution_count": null,
   "id": "e24a68e8",
   "metadata": {
    "scrolled": true
   },
   "outputs": [],
   "source": [
    "def foo(lst):\n",
    "    if len(lst) > 0:\n",
    "        return lst[-1]\n",
    "    else:\n",
    "        return \"Empty list.\"\n",
    "    \n",
    "lst = []\n",
    "foo(lst)"
   ]
  },
  {
   "cell_type": "markdown",
   "id": "63e8a999",
   "metadata": {},
   "source": [
    "### 22. The inside of a list\n",
    "#### Takes a list as a parameter and returns a list with all but the first and the last item of the input list."
   ]
  },
  {
   "cell_type": "code",
   "execution_count": null,
   "id": "75c1c914",
   "metadata": {
    "scrolled": true
   },
   "outputs": [],
   "source": [
    "def foo(lst):\n",
    "    return lst[1:-1]\n",
    "\n",
    "lst = [5, 7, 0, 2]\n",
    "foo(lst)"
   ]
  },
  {
   "cell_type": "markdown",
   "id": "e7fc87a9",
   "metadata": {},
   "source": [
    "### 23. Remove if too big and add new\n",
    "#### Takes a list and an object as arguments. If the list has three items remove the first item of the list and append the object to the end of the list. Return the modified list or return None if the list did not have three items."
   ]
  },
  {
   "cell_type": "code",
   "execution_count": null,
   "id": "aa2f1836",
   "metadata": {
    "scrolled": true
   },
   "outputs": [],
   "source": [
    "def foo(lst, item):\n",
    "    if len(lst) >= 3:\n",
    "        lst.pop(0)\n",
    "        lst.append(item)\n",
    "        return lst\n",
    "    \n",
    "lst = [5, 7, 0, 2]\n",
    "item = 99\n",
    "foo(lst, item)"
   ]
  },
  {
   "cell_type": "markdown",
   "id": "8bab1f05",
   "metadata": {},
   "source": [
    "### 24. Every seven\n",
    "#### Takes a list as parameter and returns the first item and then every subsequent 7th item of the input list."
   ]
  },
  {
   "cell_type": "code",
   "execution_count": null,
   "id": "f8011b2c",
   "metadata": {
    "scrolled": true
   },
   "outputs": [],
   "source": [
    "def foo(lst):\n",
    "    return lst[::7]\n",
    "\n",
    "lst = ['Monday', 'Tuesday', 'Wednesday', 'Thursday', 'Friday', 'Saturday', 'Sunday', \\\n",
    "       'Monday', 'Tuesday', 'Wednesday', 'Thursday', 'Friday', 'Saturday', 'Sunday', \\\n",
    "       'Monday', 'Tuesday', 'Wednesday', 'Thursday', 'Friday', 'Saturday', 'Sunday', \\\n",
    "       'Monday', 'Tuesday', 'Wednesday', 'Thursday', 'Friday', 'Saturday', 'Sunday']\n",
    "foo(lst)"
   ]
  },
  {
   "cell_type": "markdown",
   "id": "14163b4f",
   "metadata": {},
   "source": [
    "### 25. Five every seven\n",
    "#### Return  5 items at a step of 7."
   ]
  },
  {
   "cell_type": "code",
   "execution_count": null,
   "id": "c71743ea",
   "metadata": {
    "scrolled": true
   },
   "outputs": [],
   "source": [
    "from itertools import chain\n",
    "\n",
    "def foo(lst):\n",
    "    list_of_lists = [lst[i:i+5] for i in range(0, len(lst), 7)]\n",
    "    return list(chain.from_iterable(list_of_lists))\n",
    "\n",
    "lst = ['Monday', 'Tuesday', 'Wednesday', 'Thursday', 'Friday', 'Saturday', 'Sunday', \\\n",
    "       'Monday', 'Tuesday', 'Wednesday', 'Thursday', 'Friday', 'Saturday', 'Sunday', \\\n",
    "       'Monday', 'Tuesday', 'Wednesday', 'Thursday', 'Friday', 'Saturday', 'Sunday', \\\n",
    "       'Monday', 'Tuesday', 'Wednesday', 'Thursday', 'Friday', 'Saturday', 'Sunday']\n",
    "foo(lst)"
   ]
  },
  {
   "cell_type": "markdown",
   "id": "b2a212f3",
   "metadata": {},
   "source": [
    "### 26. X every y\n",
    "#### Return x items at a step of y."
   ]
  },
  {
   "cell_type": "code",
   "execution_count": null,
   "id": "8723ce4e",
   "metadata": {
    "scrolled": true
   },
   "outputs": [],
   "source": [
    "from itertools import chain\n",
    "\n",
    "def foo(lst, x, y):\n",
    "    list_of_lists = [lst[i:i+x] for i in range(0, len(lst), y)]\n",
    "    return list(chain.from_iterable(list_of_lists))\n",
    "\n",
    "lst = ['Monday', 'Tuesday', 'Wednesday', 'Thursday', 'Friday', 'Saturday', 'Sunday', \\\n",
    "       'Monday', 'Tuesday', 'Wednesday', 'Thursday', 'Friday', 'Saturday', 'Sunday', \\\n",
    "       'Monday', 'Tuesday', 'Wednesday', 'Thursday', 'Friday', 'Saturday', 'Sunday', \\\n",
    "       'Monday', 'Tuesday', 'Wednesday', 'Thursday', 'Friday', 'Saturday', 'Sunday']\n",
    "foo(lst, 1, 5)"
   ]
  },
  {
   "cell_type": "markdown",
   "id": "778c10cb",
   "metadata": {},
   "source": [
    "### 27. Mean of list extraction (complex)\n",
    "#### Calculate and print out the mean of all items at a step of two."
   ]
  },
  {
   "cell_type": "code",
   "execution_count": null,
   "id": "0bbb3f25",
   "metadata": {
    "scrolled": true
   },
   "outputs": [],
   "source": [
    "numbers = [1, 4, 6, 8, 9, 6, 7, 8, 9, 3, 44, 55, 6, 77, 88, 997, 7, \\\n",
    "           6, 7, 7, 8, 9, 8, 8, 8, 9, 8, 8, 0, 9, 0, 9, 8, 9, 8, 8, \\\n",
    "           8, 9, 9, 9, 9, 0, 1, 3, 5, 6, 7, 8, 7, 7, 7, 8, 7, 7, 5, \\\n",
    "           4, 5, 6, 5, 56, 4, 3, 4, 5, 6, 6, 7, 8, 8, 9]\n",
    "\n",
    "every_two = numbers[::2]\n",
    "print(sum(every_two) / len(every_two))"
   ]
  },
  {
   "cell_type": "markdown",
   "id": "36f183da",
   "metadata": {},
   "source": [
    "### 28. Odd lists\n",
    "#### Takes a list as parameter and returns the middle item of the list."
   ]
  },
  {
   "cell_type": "code",
   "execution_count": null,
   "id": "8f9371fb",
   "metadata": {
    "scrolled": true
   },
   "outputs": [],
   "source": [
    "def foo(lst):\n",
    "    middle_item = int(len(lst) / 2)\n",
    "    return lst[middle_item]\n",
    "\n",
    "numbers = [1, 4, 6]\n",
    "foo(numbers)"
   ]
  },
  {
   "cell_type": "markdown",
   "id": "f1cf4c2c",
   "metadata": {},
   "source": [
    "### 29. Even lists\n",
    "#### Takes a list as parameter. Returns the middle item of the list. Return the string \"Bad list\" if the input has no items or it has an even number of items."
   ]
  },
  {
   "cell_type": "code",
   "execution_count": null,
   "id": "0496754a",
   "metadata": {
    "scrolled": true
   },
   "outputs": [],
   "source": [
    "def foo(lst):\n",
    "    if len(lst) % 2 == 0:\n",
    "        return \"Bad list\"\n",
    "    else:\n",
    "        middle_item = int(len(lst) / 2)\n",
    "        return lst[middle_item]\n",
    "    \n",
    "numbers = [1, 4, 6, 7]\n",
    "foo(numbers)"
   ]
  },
  {
   "cell_type": "markdown",
   "id": "eccb3183",
   "metadata": {},
   "source": [
    "### 30. Anti-duplicator\n",
    "#### Takes a list as parameter. Removes its duplicates. Returns the cleand list."
   ]
  },
  {
   "cell_type": "code",
   "execution_count": null,
   "id": "3b77a71c",
   "metadata": {
    "scrolled": true
   },
   "outputs": [],
   "source": [
    "def foo(lst):\n",
    "    return list(set(lst))\n",
    "\n",
    "numbers = [1, 4, 6, 8, 9, 6, 7, 8, 9, 3, 44, 55, 6, 77, 88, 997, 7, \\\n",
    "           6, 7, 7, 8, 9, 8, 8, 8, 9, 8, 8, 0, 9, 0, 9, 8, 9, 8, 8, \\\n",
    "           8, 9, 9, 9, 9, 0, 1, 3, 5, 6, 7, 8, 7, 7, 7, 8, 7, 7, 5, \\\n",
    "           4, 5, 6, 5, 56, 4, 3, 4, 5, 6, 6, 7, 8, 8, 9]\n",
    "foo(numbers)"
   ]
  },
  {
   "cell_type": "markdown",
   "id": "1085dd1e",
   "metadata": {},
   "source": [
    "### 31. Random range\n",
    "#### Returns a list of 1000 random integers. The integer values should be between 1 and 10, including 1 and 10."
   ]
  },
  {
   "cell_type": "code",
   "execution_count": null,
   "id": "2742083c",
   "metadata": {
    "scrolled": true
   },
   "outputs": [],
   "source": [
    "import random\n",
    "\n",
    "def foo():\n",
    "    return [random.randint(1, 10) for i in range(1000)]\n",
    "\n",
    "# def foo():\n",
    "#     lst = []\n",
    "#     for i in range(1000):\n",
    "#         lst.append(random.randint(1, 10))\n",
    "#     return lst\n",
    "\n",
    "foo()"
   ]
  },
  {
   "cell_type": "markdown",
   "id": "4e8d0ac0",
   "metadata": {},
   "source": [
    "### 32. Banned \"xxx\"\n",
    "#### Takes a string as argument and returns true if \"xxx\" is in that string and false if it is not."
   ]
  },
  {
   "cell_type": "code",
   "execution_count": null,
   "id": "b68aba7c",
   "metadata": {
    "scrolled": true
   },
   "outputs": [],
   "source": [
    "def foo(word):\n",
    "    if \"xxx\" in word:\n",
    "        return True\n",
    "    else:\n",
    "        return False\n",
    "    \n",
    "word = \"chi\"\n",
    "foo(word)"
   ]
  },
  {
   "cell_type": "markdown",
   "id": "dae68c8e",
   "metadata": {},
   "source": [
    "### 33. Banned \"xxx\" lists\n",
    "#### Takes a list as parameter. Returns all the items that contain \"xxx\"."
   ]
  },
  {
   "cell_type": "code",
   "execution_count": null,
   "id": "e33fd4bf",
   "metadata": {
    "scrolled": true
   },
   "outputs": [],
   "source": [
    "def foo(lst):\n",
    "    words = []\n",
    "    \n",
    "    for word in lst:\n",
    "        if isinstance(word, str) and \"xxx\" in word:\n",
    "            words.append(word)\n",
    "        else:\n",
    "            continue\n",
    "    return words\n",
    "        \n",
    "sharum_list = [\"chi\", \"kaixxx\", \"kha\", \"dal\", \"xxx\"]\n",
    "foo(sharum_list)"
   ]
  },
  {
   "cell_type": "markdown",
   "id": "1fedcd31",
   "metadata": {},
   "source": [
    "### 34. Dictionary sum\n",
    "#### Takes a dictionary as parameter and returns the sum of the dictionary values."
   ]
  },
  {
   "cell_type": "code",
   "execution_count": null,
   "id": "05cd458c",
   "metadata": {
    "scrolled": true
   },
   "outputs": [],
   "source": [
    "# def foo(my_dict):\n",
    "#     result = 0\n",
    "#     for element in my_dict:\n",
    "#         result += my_dict[element]\n",
    "#     return result\n",
    "\n",
    "def foo(my_dict):\n",
    "    return sum(my_dict.values())\n",
    "        \n",
    "my_dict = {'a' : 1, 'b' : 4, 'c' : 5}\n",
    "foo(my_dict)"
   ]
  },
  {
   "cell_type": "markdown",
   "id": "7385e1f5",
   "metadata": {},
   "source": [
    "### 35. Dictionary lists sum\n",
    "#### Takes a dictionary of lists as parameter and returns the sum of all items of all lists."
   ]
  },
  {
   "cell_type": "code",
   "execution_count": null,
   "id": "f1da2e5b",
   "metadata": {
    "scrolled": true
   },
   "outputs": [],
   "source": [
    "def foo(lsts):\n",
    "    lst = []\n",
    "    for element in lsts:\n",
    "        lst += lsts[element]\n",
    "    return sum(lst)\n",
    "\n",
    "# def foo(dicts):\n",
    "#     lst = []\n",
    "#     for key, value in dicts.items():\n",
    "#         lst = lst + value\n",
    "#     return sum(lst)\n",
    "\n",
    "my_dict = {'a' : [1, 5], 'b' : [4, 7], 'c' : [5, 1]}\n",
    "foo(my_dict)"
   ]
  },
  {
   "cell_type": "markdown",
   "id": "4c31de95",
   "metadata": {},
   "source": [
    "### 36. Filter dictionary\n",
    "#### Takes a dictionary as parameter. Returns a dictionary containing only the pairs whose values are greater than 4."
   ]
  },
  {
   "cell_type": "code",
   "execution_count": null,
   "id": "03fec876",
   "metadata": {
    "scrolled": true
   },
   "outputs": [],
   "source": [
    "def foo(my_dict):\n",
    "    return dict((key, value) for key, value in my_dict.items() \n",
    "                if value > 4)\n",
    "\n",
    "my_dict = {'a' : 1, 'b' : 4, 'c' : 5}\n",
    "foo(my_dict)"
   ]
  },
  {
   "cell_type": "markdown",
   "id": "3f5b4a02",
   "metadata": {},
   "source": [
    "### 37. Filter dictionary double\n",
    "#### Takes a dictionary as parameter. Returns a dictionary containing only the pairs whose values are greater than 4 and they are integers."
   ]
  },
  {
   "cell_type": "code",
   "execution_count": null,
   "id": "cf1a37c3",
   "metadata": {
    "scrolled": true
   },
   "outputs": [],
   "source": [
    "def foo(my_dict):\n",
    "    return dict((key, value) for key, value in my_dict.items() \n",
    "                if value > 4 and isinstance(value, int))\n",
    "\n",
    "my_dict = {'a' : 6, 'b' : 44.4, 'c' : 5}\n",
    "foo(my_dict)"
   ]
  },
  {
   "cell_type": "markdown",
   "id": "0a771e02",
   "metadata": {},
   "source": [
    "### 38. Chatbot v4.0"
   ]
  },
  {
   "cell_type": "code",
   "execution_count": null,
   "id": "eff6b74c",
   "metadata": {
    "scrolled": true
   },
   "outputs": [],
   "source": [
    "from datetime import datetime\n",
    "from difflib import SequenceMatcher\n",
    "\n",
    "vocabulary = {\n",
    "    \"hello\" : \"Hello there!\",\n",
    "    \"what's your name\" : \"My name is Roboto!\",\n",
    "    \"what is your name\" : \"My name is Roboto!\",\n",
    "    \"bye\" : \"Goodbye!\",\n",
    "    \"what time is it\" : datetime.now().strftime(\"%H:%M\")\n",
    "}\n",
    "        \n",
    "def talk(query, vocabulary):\n",
    "    new_vocabulary = {key:[value, SequenceMatcher(None, query, key).ratio()] \n",
    "    for (key,value) in vocabulary.items()}\n",
    "    return new_vocabulary[max(new_vocabulary, key=lambda k: new_vocabulary[k][1])][0]\n",
    "            \n",
    "talk(\"time\", vocabulary)"
   ]
  },
  {
   "cell_type": "markdown",
   "id": "2c3b8f9e",
   "metadata": {},
   "source": [
    "### 39. What day is today?\n",
    "#### Takes a date in the form of Y-M-D as parameter and returns the day for that date."
   ]
  },
  {
   "cell_type": "code",
   "execution_count": null,
   "id": "9de3c29d",
   "metadata": {
    "scrolled": true
   },
   "outputs": [],
   "source": [
    "from datetime import datetime\n",
    "\n",
    "def foo(date):\n",
    "    return datetime.strptime(date, \"%Y-%m-%d\").strftime(\"%A\")\n",
    "\n",
    "foo(\"1994-04-09\")"
   ]
  },
  {
   "cell_type": "markdown",
   "id": "ab66e112",
   "metadata": {},
   "source": [
    "### 40. Nine files\n",
    "#### Create nine empty text files with pathnames day1.txt, day2.txt, etc."
   ]
  },
  {
   "cell_type": "code",
   "execution_count": null,
   "id": "6d67b828",
   "metadata": {
    "scrolled": true
   },
   "outputs": [],
   "source": [
    "for number in range(1, 9+1):\n",
    "    open(\"day{}.txt\".format(number), \"w\").close()"
   ]
  },
  {
   "cell_type": "markdown",
   "id": "dc9c0bd0",
   "metadata": {},
   "source": [
    "### 41. Nine mindful files\n",
    "#### Create nine empty files without overwrite them if they already exist."
   ]
  },
  {
   "cell_type": "code",
   "execution_count": null,
   "id": "40ee279b",
   "metadata": {
    "scrolled": true
   },
   "outputs": [],
   "source": [
    "for number in range(1, 9+1):\n",
    "    open(\"file{}.txt\".format(number), \"a\").close()"
   ]
  },
  {
   "cell_type": "markdown",
   "id": "76e2bbc9",
   "metadata": {},
   "source": [
    "### 42. Mean of all files\n",
    "#### The two text files have some numbers. Calculate and print out the mean value of all the values of all the text files."
   ]
  },
  {
   "cell_type": "code",
   "execution_count": null,
   "id": "3f6db344",
   "metadata": {
    "scrolled": true
   },
   "outputs": [],
   "source": [
    "from glob import glob\n",
    "from re import compile\n",
    "\n",
    "text_files = glob(\"*.txt\")\n",
    "lists = []\n",
    "\n",
    "for text_file in text_files:\n",
    "    with open(text_file) as file:\n",
    "        lists.append(file.readlines())\n",
    "        \n",
    "all_lines = sum(lists, [])\n",
    "\n",
    "matches = [compile(\"[0-9]+\\.*[0-9]*\").search(line) for line in all_lines]\n",
    "\n",
    "numbers = [float(match.group(0)) for match in matches if match]\n",
    "\n",
    "print(sum(numbers)/len(numbers))"
   ]
  },
  {
   "cell_type": "markdown",
   "id": "1d6fd1f3",
   "metadata": {},
   "source": [
    "### 43. Mean and write\n",
    "#### Calculate the mean of all the numbers of all the text files and write the value inside a new mean.txt file."
   ]
  },
  {
   "cell_type": "code",
   "execution_count": null,
   "id": "f224a4ba",
   "metadata": {
    "scrolled": true
   },
   "outputs": [],
   "source": [
    "from glob import glob\n",
    "from re import compile\n",
    "\n",
    "text_files = glob(\"*.txt\")\n",
    "lists =[]\n",
    "\n",
    "for text_file in text_files:\n",
    "    with open(text_file) as file:\n",
    "        lists.append(file.readlines())\n",
    "\n",
    "all_lines = sum(lists, [])\n",
    "\n",
    "matches = [compile(\"[0-9]+\\.*[0-9]*\").search(line) for line in all_lines]\n",
    "\n",
    "numbers = [float(match.group(0)) for match in matches if match]\n",
    "\n",
    "mean = sum(numbers)/len(numbers)\n",
    "\n",
    "with open(\"mean.txt\", \"w\") as file:\n",
    "    file.write(str(mean))"
   ]
  },
  {
   "cell_type": "markdown",
   "id": "9a4ecbe3",
   "metadata": {},
   "source": [
    "### 44. Cirectory structure\n",
    "#### Create 10 empty folders named 1 to 50."
   ]
  },
  {
   "cell_type": "code",
   "execution_count": null,
   "id": "7d507e1a",
   "metadata": {
    "scrolled": true
   },
   "outputs": [],
   "source": [
    "from os import makedirs\n",
    "\n",
    "for i in range(1, 10+1):\n",
    "    makedirs(str(i))"
   ]
  },
  {
   "cell_type": "markdown",
   "id": "e1f44875",
   "metadata": {},
   "source": [
    "### 45. Nested directory structure\n",
    "#### Create 10 empty folders named 1 to 10 and each of those folder should contain five empty subfolders named mon to fri."
   ]
  },
  {
   "cell_type": "code",
   "execution_count": null,
   "id": "9d20c743",
   "metadata": {
    "scrolled": true
   },
   "outputs": [],
   "source": [
    "from os import makedirs\n",
    "\n",
    "for folder in range(1, 10+1):\n",
    "    makedirs(str(folder))\n",
    "    \n",
    "for folder in range(1, 10+1):\n",
    "    for subfolder in [\"mon\", \"tue\", \"wed\", \"thu\", \"fri\"]:\n",
    "        makedirs(str(folder) + \"/\" + str(subfolder))"
   ]
  },
  {
   "cell_type": "markdown",
   "id": "f19d1178",
   "metadata": {},
   "source": [
    "### 46. Delete\n",
    "#### Delete the untitled.txt."
   ]
  },
  {
   "cell_type": "code",
   "execution_count": null,
   "id": "81bd8c1e",
   "metadata": {
    "scrolled": true
   },
   "outputs": [],
   "source": [
    "from os import remove\n",
    "\n",
    "remove(\"untitled.txt\")"
   ]
  },
  {
   "cell_type": "markdown",
   "id": "cfe7a060",
   "metadata": {},
   "source": [
    "### 47. Delete them all\n",
    "#### Delete all the text files."
   ]
  },
  {
   "cell_type": "code",
   "execution_count": null,
   "id": "40cc2276",
   "metadata": {
    "scrolled": true
   },
   "outputs": [],
   "source": [
    "from glob import glob\n",
    "from os import remove\n",
    "\n",
    "text_files = glob(\"*.txt\")\n",
    "\n",
    "for text_file in text_files:\n",
    "    remove(text_file)"
   ]
  },
  {
   "cell_type": "markdown",
   "id": "5bc4c13b",
   "metadata": {},
   "source": [
    "### 48. Seek and delete\n",
    "#### Delete all the files that have the \"xxx\" or the \"XXX\" string."
   ]
  },
  {
   "cell_type": "code",
   "execution_count": null,
   "id": "0c17a33e",
   "metadata": {
    "scrolled": true
   },
   "outputs": [],
   "source": [
    "from glob import glob\n",
    "from os import remove\n",
    "\n",
    "text_files = glob(\"*.txt\")\n",
    "\n",
    "for text_file in text_files:\n",
    "    with open(text_file) as file:\n",
    "        content = file.read().lower()\n",
    "        \n",
    "    if \"xxx\" in content:\n",
    "        remove(text_file)"
   ]
  },
  {
   "cell_type": "markdown",
   "id": "9707fb09",
   "metadata": {},
   "source": [
    "### 49. The shortest straw\n",
    "#### Print out the name of the file with the smallest file size."
   ]
  },
  {
   "cell_type": "code",
   "execution_count": null,
   "id": "c2e56e75",
   "metadata": {
    "scrolled": true
   },
   "outputs": [],
   "source": [
    "from glob import glob\n",
    "from os import path\n",
    "\n",
    "text_files = glob(\"*.txt\")\n",
    "\n",
    "sizes = {text_file:path.getsize(text_file) for text_file in text_files}\n",
    "\n",
    "print(min(sizes, key=sizes.get))"
   ]
  },
  {
   "cell_type": "markdown",
   "id": "f0f59a33",
   "metadata": {},
   "source": [
    "### 50. Add gold\n",
    "#### Modify the content of the metals.txt file."
   ]
  },
  {
   "cell_type": "code",
   "execution_count": null,
   "id": "84a58276",
   "metadata": {
    "scrolled": true
   },
   "outputs": [],
   "source": [
    "from json import load, dump\n",
    "\n",
    "with open(\"metals.txt\") as json_file_1:\n",
    "    data = load(json_file_1)    \n",
    "\n",
    "print(\"DATA\", data)\n",
    "\n",
    "data[\"metals\"][\"gold\"] = {\n",
    "    \"conductivity\": 33.5,\n",
    "    \"density\": 0.255,\n",
    "    \"heat\": 0.129,\n",
    "    \"melting point\": 2171,\n",
    "    \"thermal expansion\": 4.7,\n",
    "    \"yield strength\": 288,\n",
    "    \"tensile strength\": 441,\n",
    "    \"minimum impact energy\": 22\n",
    "    }\n",
    "\n",
    "with open(\"metals.txt\", \"w\") as json_file_2:\n",
    "    dump(data, json_file_2)"
   ]
  },
  {
   "cell_type": "markdown",
   "id": "d4b0daf6",
   "metadata": {
    "scrolled": true
   },
   "source": [
    "### 51. Double dictionary values\n",
    "#### Load the JSON data from some_specs_sth.txt as a dictionary. Calculate a new dict like the original one but with its values multiplied by two. The order of items doesn't matter."
   ]
  },
  {
   "cell_type": "code",
   "execution_count": null,
   "id": "d020f733",
   "metadata": {},
   "outputs": [],
   "source": [
    "from json import load\n",
    "\n",
    "with open(\"some_specs_sth.txt\") as json_file:\n",
    "    data = load(json_file)\n",
    "\n",
    "print({key: float(value) * 2 for key, value in data.items()})"
   ]
  },
  {
   "cell_type": "markdown",
   "id": "c8e0b7c8",
   "metadata": {},
   "source": [
    "### 52. Get density\n",
    "#### Load the file metals.txt as a dict and print out the density of steel."
   ]
  },
  {
   "cell_type": "code",
   "execution_count": null,
   "id": "5561a852",
   "metadata": {},
   "outputs": [],
   "source": [
    "from json import load\n",
    "\n",
    "with open(\"metals.txt\") as json_file:\n",
    "    data = load(json_file)\n",
    "    print(data[\"metals\"][\"steel\"][\"density\"])"
   ]
  },
  {
   "cell_type": "markdown",
   "id": "ed2d23e0",
   "metadata": {},
   "source": [
    "### 53. Access JSON property\n",
    "#### Implement a function that takes the 'metal', the 'property' and the 'filepath' as parameters and returns the property value of that metal."
   ]
  },
  {
   "cell_type": "code",
   "execution_count": null,
   "id": "e4913abe",
   "metadata": {},
   "outputs": [],
   "source": [
    "from json import load\n",
    "\n",
    "def foo(metal, property, filepath):\n",
    "    with open(filepath) as json_file:\n",
    "        data = load(json_file)\n",
    "        \n",
    "        return data[\"metals\"][metal][property]"
   ]
  },
  {
   "cell_type": "markdown",
   "id": "56fdd3e6",
   "metadata": {},
   "source": [
    "### 54. Merge them\n",
    "#### Merge three files (sen_1.txt, sen_2.txt, sen_3.txt) into one."
   ]
  },
  {
   "cell_type": "code",
   "execution_count": null,
   "id": "afd1aaca",
   "metadata": {},
   "outputs": [],
   "source": [
    "from glob import glob\n",
    "\n",
    "text_files = glob(\"sen_*.txt\")\n",
    "print(text_files)\n",
    "\n",
    "with open(\"together.txt\", \"w\") as outfile:\n",
    "    for text_file in text_files:\n",
    "        with open(text_file) as infile:\n",
    "            for line in infile:\n",
    "                outfile.write(line + \"\\n\")"
   ]
  },
  {
   "cell_type": "markdown",
   "id": "8f919f5f",
   "metadata": {},
   "source": [
    "### 55. Renaming multiple files\n",
    "#### Write a script that renames files in the folder 'files-to-rename' by adding/deleting a dash before the number."
   ]
  },
  {
   "cell_type": "code",
   "execution_count": null,
   "id": "751d9885",
   "metadata": {},
   "outputs": [],
   "source": [
    "# To code."
   ]
  },
  {
   "cell_type": "markdown",
   "id": "d8fd2490",
   "metadata": {},
   "source": [
    "### 56. Find questions\n",
    "#### Extract and print out all the questions from the questions.txt file."
   ]
  },
  {
   "cell_type": "code",
   "execution_count": null,
   "id": "3691fd01",
   "metadata": {},
   "outputs": [],
   "source": [
    "from re import findall\n",
    "\n",
    "with open(\"questions.txt\") as file:\n",
    "    content = file.read()\n",
    "    print(findall(\"[A-Z][a-z ',]*\\?\", content))"
   ]
  },
  {
   "cell_type": "markdown",
   "id": "cd46292f",
   "metadata": {},
   "source": [
    "### 57. Similarity between texts\n",
    "#### Implement a function that takes two strings as parameters and outputs the similarity between them."
   ]
  },
  {
   "cell_type": "code",
   "execution_count": null,
   "id": "09e2414b",
   "metadata": {},
   "outputs": [],
   "source": [
    "from difflib import SequenceMatcher\n",
    "\n",
    "def foo(string_1, string_2):\n",
    "    return SequenceMatcher(None, string_1, string_2).ratio()\n",
    "\n",
    "foo(\"Hello there!\", \"Hey there.\")"
   ]
  },
  {
   "cell_type": "markdown",
   "id": "8ed5bf07",
   "metadata": {},
   "source": [
    "### 58. Numbers in sentences\n",
    "#### Write the method that returns the sum of numbers for queries containg the word \"sum\" and two integers."
   ]
  },
  {
   "cell_type": "code",
   "execution_count": null,
   "id": "356fd896",
   "metadata": {},
   "outputs": [],
   "source": [
    "from re import findall\n",
    "\n",
    "def foo(query):\n",
    "    if \"sum\" in query:\n",
    "        numbers = findall(r'\\b\\d+\\b', query)\n",
    "        numbers = [float(item) for item in numbers]\n",
    "        \n",
    "        return sum(numbers)\n",
    "    \n",
    "print(foo(\"What is the sum of 3 and 14?\"))"
   ]
  },
  {
   "cell_type": "code",
   "execution_count": null,
   "id": "30760a95",
   "metadata": {},
   "outputs": [],
   "source": []
  }
 ],
 "metadata": {
  "kernelspec": {
   "display_name": "Python 3 (ipykernel)",
   "language": "python",
   "name": "python3"
  },
  "language_info": {
   "codemirror_mode": {
    "name": "ipython",
    "version": 3
   },
   "file_extension": ".py",
   "mimetype": "text/x-python",
   "name": "python",
   "nbconvert_exporter": "python",
   "pygments_lexer": "ipython3",
   "version": "3.9.5"
  }
 },
 "nbformat": 4,
 "nbformat_minor": 5
}
